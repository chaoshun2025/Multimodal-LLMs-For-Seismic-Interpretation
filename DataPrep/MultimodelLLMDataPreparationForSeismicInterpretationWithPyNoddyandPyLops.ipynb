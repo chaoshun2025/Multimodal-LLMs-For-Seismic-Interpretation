{
  "nbformat": 4,
  "nbformat_minor": 0,
  "metadata": {
    "colab": {
      "provenance": []
    },
    "kernelspec": {
      "name": "python3",
      "display_name": "Python 3"
    },
    "language_info": {
      "name": "python"
    }
  },
  "cells": [
    {
      "cell_type": "code",
      "source": [
        "!git clone https://github.com/cgre-aachen/pynoddy.git"
      ],
      "metadata": {
        "colab": {
          "base_uri": "https://localhost:8080/"
        },
        "id": "jJIiJpL8RHAb",
        "outputId": "971c50cb-c8a5-40ba-b33e-b156ba69366e"
      },
      "execution_count": 1,
      "outputs": [
        {
          "output_type": "stream",
          "name": "stdout",
          "text": [
            "Cloning into 'pynoddy'...\n",
            "remote: Enumerating objects: 4032, done.\u001b[K\n",
            "remote: Counting objects: 100% (36/36), done.\u001b[K\n",
            "remote: Compressing objects: 100% (32/32), done.\u001b[K\n",
            "remote: Total 4032 (delta 20), reused 9 (delta 4), pack-reused 3996 (from 1)\u001b[K\n",
            "Receiving objects: 100% (4032/4032), 32.74 MiB | 11.95 MiB/s, done.\n",
            "Resolving deltas: 100% (2359/2359), done.\n"
          ]
        }
      ]
    },
    {
      "cell_type": "code",
      "source": [
        "import sys, os\n",
        "# Get the current PATH\n",
        "path_variable = os.environ['PATH']\n",
        "\n",
        "# Define the directory to add\n",
        "new_directory = '/content/pynoddy/noddyapp/'\n",
        "#topo_directory = '/content/pynoddy/pynoddy/topology/'\n",
        "\n",
        "# Add the new directory to PATH, ensuring it's not already present\n",
        "if new_directory not in path_variable:\n",
        "    os.environ['PATH'] = f\"{path_variable}:{new_directory}\"\n",
        "\n",
        "# Verify the change\n",
        "print(os.environ['PATH'])\n",
        "\n",
        "sys.path.append('pynoddy/noddyapp/')\n",
        "#sys.path.append('pynoddy/pynoddy/topology/')"
      ],
      "metadata": {
        "colab": {
          "base_uri": "https://localhost:8080/"
        },
        "id": "TcuENJ05RvpP",
        "outputId": "a43bbd5d-1f2b-4bb8-8050-526d6a4300bf"
      },
      "execution_count": 4,
      "outputs": [
        {
          "output_type": "stream",
          "name": "stdout",
          "text": [
            "/opt/bin:/usr/local/nvidia/bin:/usr/local/cuda/bin:/usr/local/sbin:/usr/local/bin:/usr/sbin:/usr/bin:/sbin:/bin:/tools/node/bin:/tools/google-cloud-sdk/bin:/content/pynoddy/noddyapp/:/content/pynoddy/pynoddy/topology/\n"
          ]
        }
      ]
    },
    {
      "cell_type": "code",
      "source": [
        "!noddy"
      ],
      "metadata": {
        "colab": {
          "base_uri": "https://localhost:8080/"
        },
        "id": "Es_qpNvESCDS",
        "outputId": "8f5b8630-9704-42f8-ac10-d2ce187cba3b"
      },
      "execution_count": 5,
      "outputs": [
        {
          "output_type": "stream",
          "name": "stdout",
          "text": [
            "Arguments <historyfile> <outputfile> <calc_mode>:\n",
            "BLOCK\n",
            "GEOPHYSICS\n",
            "SURFACES\n",
            "BLOCK_GEOPHYS\n",
            "BLOCK_SURFACES\n",
            "TOPOLOGY\n",
            "ANOM_FROM_BLOCK\n",
            "ALL\n"
          ]
        }
      ]
    },
    {
      "cell_type": "code",
      "source": [
        "!pip install git+https://github.com/cgre-aachen/pynoddy.git"
      ],
      "metadata": {
        "colab": {
          "base_uri": "https://localhost:8080/"
        },
        "id": "jlhh6XX_NTwc",
        "outputId": "4b8a85a9-2328-401a-ba8b-d4fe2bde0d60"
      },
      "execution_count": 6,
      "outputs": [
        {
          "output_type": "stream",
          "name": "stdout",
          "text": [
            "Collecting git+https://github.com/cgre-aachen/pynoddy.git\n",
            "  Cloning https://github.com/cgre-aachen/pynoddy.git to /tmp/pip-req-build-gceo4fuo\n",
            "  Running command git clone --filter=blob:none --quiet https://github.com/cgre-aachen/pynoddy.git /tmp/pip-req-build-gceo4fuo\n",
            "  Resolved https://github.com/cgre-aachen/pynoddy.git to commit 4fccce906c5691543a425070cb36825ab5335ebe\n",
            "  Preparing metadata (setup.py) ... \u001b[?25l\u001b[?25hdone\n",
            "Collecting SALib (from pynoddy==1.1)\n",
            "  Downloading salib-1.5.1-py3-none-any.whl.metadata (11 kB)\n",
            "Collecting pyevtk (from pynoddy==1.1)\n",
            "  Downloading pyevtk-1.6.0-py3-none-any.whl.metadata (5.4 kB)\n",
            "Requirement already satisfied: numpy>=1.8.0 in /usr/local/lib/python3.11/dist-packages (from pyevtk->pynoddy==1.1) (2.0.2)\n",
            "Requirement already satisfied: matplotlib>=3.5 in /usr/local/lib/python3.11/dist-packages (from SALib->pynoddy==1.1) (3.10.0)\n",
            "Collecting multiprocess (from SALib->pynoddy==1.1)\n",
            "  Downloading multiprocess-0.70.18-py311-none-any.whl.metadata (7.5 kB)\n",
            "Requirement already satisfied: pandas>=2.0 in /usr/local/lib/python3.11/dist-packages (from SALib->pynoddy==1.1) (2.2.2)\n",
            "Requirement already satisfied: scipy>=1.9.3 in /usr/local/lib/python3.11/dist-packages (from SALib->pynoddy==1.1) (1.15.2)\n",
            "Requirement already satisfied: contourpy>=1.0.1 in /usr/local/lib/python3.11/dist-packages (from matplotlib>=3.5->SALib->pynoddy==1.1) (1.3.2)\n",
            "Requirement already satisfied: cycler>=0.10 in /usr/local/lib/python3.11/dist-packages (from matplotlib>=3.5->SALib->pynoddy==1.1) (0.12.1)\n",
            "Requirement already satisfied: fonttools>=4.22.0 in /usr/local/lib/python3.11/dist-packages (from matplotlib>=3.5->SALib->pynoddy==1.1) (4.57.0)\n",
            "Requirement already satisfied: kiwisolver>=1.3.1 in /usr/local/lib/python3.11/dist-packages (from matplotlib>=3.5->SALib->pynoddy==1.1) (1.4.8)\n",
            "Requirement already satisfied: packaging>=20.0 in /usr/local/lib/python3.11/dist-packages (from matplotlib>=3.5->SALib->pynoddy==1.1) (24.2)\n",
            "Requirement already satisfied: pillow>=8 in /usr/local/lib/python3.11/dist-packages (from matplotlib>=3.5->SALib->pynoddy==1.1) (11.2.1)\n",
            "Requirement already satisfied: pyparsing>=2.3.1 in /usr/local/lib/python3.11/dist-packages (from matplotlib>=3.5->SALib->pynoddy==1.1) (3.2.3)\n",
            "Requirement already satisfied: python-dateutil>=2.7 in /usr/local/lib/python3.11/dist-packages (from matplotlib>=3.5->SALib->pynoddy==1.1) (2.9.0.post0)\n",
            "Requirement already satisfied: pytz>=2020.1 in /usr/local/lib/python3.11/dist-packages (from pandas>=2.0->SALib->pynoddy==1.1) (2025.2)\n",
            "Requirement already satisfied: tzdata>=2022.7 in /usr/local/lib/python3.11/dist-packages (from pandas>=2.0->SALib->pynoddy==1.1) (2025.2)\n",
            "Collecting dill>=0.4.0 (from multiprocess->SALib->pynoddy==1.1)\n",
            "  Downloading dill-0.4.0-py3-none-any.whl.metadata (10 kB)\n",
            "Requirement already satisfied: six>=1.5 in /usr/local/lib/python3.11/dist-packages (from python-dateutil>=2.7->matplotlib>=3.5->SALib->pynoddy==1.1) (1.17.0)\n",
            "Downloading pyevtk-1.6.0-py3-none-any.whl (20 kB)\n",
            "Downloading salib-1.5.1-py3-none-any.whl (778 kB)\n",
            "\u001b[2K   \u001b[90m━━━━━━━━━━━━━━━━━━━━━━━━━━━━━━━━━━━━━━━━\u001b[0m \u001b[32m778.9/778.9 kB\u001b[0m \u001b[31m10.6 MB/s\u001b[0m eta \u001b[36m0:00:00\u001b[0m\n",
            "\u001b[?25hDownloading multiprocess-0.70.18-py311-none-any.whl (144 kB)\n",
            "\u001b[2K   \u001b[90m━━━━━━━━━━━━━━━━━━━━━━━━━━━━━━━━━━━━━━━\u001b[0m \u001b[32m144.5/144.5 kB\u001b[0m \u001b[31m317.7 kB/s\u001b[0m eta \u001b[36m0:00:00\u001b[0m\n",
            "\u001b[?25hDownloading dill-0.4.0-py3-none-any.whl (119 kB)\n",
            "\u001b[2K   \u001b[90m━━━━━━━━━━━━━━━━━━━━━━━━━━━━━━━━━━━━━━━━\u001b[0m \u001b[32m119.7/119.7 kB\u001b[0m \u001b[31m8.6 MB/s\u001b[0m eta \u001b[36m0:00:00\u001b[0m\n",
            "\u001b[?25hBuilding wheels for collected packages: pynoddy\n",
            "  Building wheel for pynoddy (setup.py) ... \u001b[?25l\u001b[?25hdone\n",
            "  Created wheel for pynoddy: filename=pynoddy-1.1-py3-none-any.whl size=115432 sha256=6bf39e71c4c0dc53b8dd4cf3f44ea90ed104cadfc355f36bc1d1357c1faee7ce\n",
            "  Stored in directory: /tmp/pip-ephem-wheel-cache-64bb0f9g/wheels/1d/c2/73/0af89a2653b0b0bc0867d8aed21ed47e73765d1edd57ffe322\n",
            "Successfully built pynoddy\n",
            "Installing collected packages: pyevtk, dill, multiprocess, SALib, pynoddy\n",
            "Successfully installed SALib-1.5.1 dill-0.4.0 multiprocess-0.70.18 pyevtk-1.6.0 pynoddy-1.1\n"
          ]
        }
      ]
    },
    {
      "cell_type": "code",
      "execution_count": 7,
      "metadata": {
        "id": "JK551hHlNCmE"
      },
      "outputs": [],
      "source": [
        "#import sys, os\n",
        "import matplotlib.pyplot as plt\n",
        "%matplotlib inline\n",
        "\n",
        "from importlib import reload\n",
        "\n",
        "#pynoddy classes\n",
        "import pynoddy\n",
        "import pynoddy.history\n",
        "import pynoddy.output\n",
        "\n",
        "from pynoddy.history import NoddyHistory\n",
        "from pynoddy.output import NoddyOutput\n",
        "#from pynoddy.output import NoddyTopology"
      ]
    },
    {
      "cell_type": "code",
      "source": [
        "history_name1 = \"ex1/simple_model_layeronly.his\"\n",
        "history_name2 = \"ex1/simple_model_layerplusfault.his\"\n",
        "history_name3 = \"ex1/simple_model.his\"\n",
        "output_name = \"ex1/simple_out\""
      ],
      "metadata": {
        "id": "hAIPAU-fOAeN"
      },
      "execution_count": 60,
      "outputs": []
    },
    {
      "cell_type": "code",
      "source": [
        "if not os.path.exists('ex1'):\n",
        "    os.mkdir('ex1')"
      ],
      "metadata": {
        "id": "EY0x6_MHOEfA"
      },
      "execution_count": 61,
      "outputs": []
    },
    {
      "cell_type": "code",
      "source": [
        "his = pynoddy.history.NoddyHistory()\n",
        "\n",
        "# add stratigraphy\n",
        "strati_options = {'num_layers' : 8,\n",
        "                  'layer_names': ['A', 'B', 'C',\n",
        "                                  'D', 'E', 'F',\n",
        "                                  'G', 'H'],\n",
        "                  'layer_thickness': [1500,500,500,500,500,500,500,500]}\n",
        "\n",
        "his.add_event('stratigraphy', strati_options)\n",
        "\n",
        "# add fault\n",
        "#fault_options = {'name' : 'Fault_E',\n",
        "#                 'pos' : (6000, 0, 5000),\n",
        "#                 'dip_dir' : 270,\n",
        "#                 'dip' : 60,\n",
        "#                 'slip' : 1000}\n",
        "#his.add_event('fault', fault_options)\n",
        "\n",
        "#add unconformity\n",
        "#unconf_options = {'name' :'Unconf_1',\n",
        "#                  'pos' : (6000, 0, 4000),\n",
        "#                  'dip_direction' : 270,\n",
        "#                  'dip' : 5,\n",
        "#                  'num_layers': 4,\n",
        "#                  'layer_names': ['U_A', 'U-B', 'U_C', 'U_D'],\n",
        "#                  'layer_thickness': [500,1000,500,1000]}\n",
        "#his.add_event('unconformity', unconf_options)\n",
        "\n",
        "#set cube size\n",
        "his.change_cube_size(50)"
      ],
      "metadata": {
        "id": "F5f_WeroTi_6"
      },
      "execution_count": 94,
      "outputs": []
    },
    {
      "cell_type": "code",
      "source": [
        "#write history file\n",
        "his.write_history(history_name1)"
      ],
      "metadata": {
        "id": "v6q3Xz6aT0_i"
      },
      "execution_count": 95,
      "outputs": []
    },
    {
      "cell_type": "code",
      "source": [
        "#run it through Noddy\n",
        "print(pynoddy.compute_model(history_name1, output_name))"
      ],
      "metadata": {
        "colab": {
          "base_uri": "https://localhost:8080/"
        },
        "id": "0ONcM0D4T0wW",
        "outputId": "230c0011-c7f6-4ce0-e8c2-307eb7c5d1e6"
      },
      "execution_count": 97,
      "outputs": [
        {
          "output_type": "stream",
          "name": "stdout",
          "text": [
            "\n"
          ]
        }
      ]
    },
    {
      "cell_type": "code",
      "source": [
        "model = NoddyOutput(output_name)"
      ],
      "metadata": {
        "id": "w2Mvp3p0T0H3"
      },
      "execution_count": 98,
      "outputs": []
    },
    {
      "cell_type": "code",
      "source": [
        "model.plot_section()"
      ],
      "metadata": {
        "colab": {
          "base_uri": "https://localhost:8080/",
          "height": 490
        },
        "id": "uos_UVXrTzkS",
        "outputId": "c5615215-5d6d-4fc0-adc9-513da507d2bd"
      },
      "execution_count": 99,
      "outputs": [
        {
          "output_type": "display_data",
          "data": {
            "text/plain": [
              "<Figure size 1000x600 with 1 Axes>"
            ],
            "image/png": "[encoded data removed]"
          },
          "metadata": {}
        }
      ]
    },
    {
      "cell_type": "code",
      "source": [
        "print(\"The model has an extent of %.0f m in x-direction, with %d cells of width %.0f m\" %\n",
        "      (model.extent_x, model.nx, model.delx))"
      ],
      "metadata": {
        "colab": {
          "base_uri": "https://localhost:8080/"
        },
        "id": "omNSYKP3k_yY",
        "outputId": "1fc0b7b4-44ed-49d3-d3d7-fbd119de3aaf"
      },
      "execution_count": 100,
      "outputs": [
        {
          "output_type": "stream",
          "name": "stdout",
          "text": [
            "The model has an extent of 10000 m in x-direction, with 200 cells of width 50 m\n"
          ]
        }
      ]
    },
    {
      "cell_type": "code",
      "source": [
        "print(\"The model has an extent of %.0f m in z-direction, with %d cells of width %.0f m\" %\n",
        "      (model.extent_z, model.nz, model.delz))"
      ],
      "metadata": {
        "colab": {
          "base_uri": "https://localhost:8080/"
        },
        "id": "Rwfdl41NlZAD",
        "outputId": "6ea06c3c-c9c6-45de-f9f8-bc0f8499a218"
      },
      "execution_count": 102,
      "outputs": [
        {
          "output_type": "stream",
          "name": "stdout",
          "text": [
            "The model has an extent of 5000 m in z-direction, with 100 cells of width 50 m\n"
          ]
        }
      ]
    },
    {
      "cell_type": "code",
      "source": [
        "model.rock_names"
      ],
      "metadata": {
        "colab": {
          "base_uri": "https://localhost:8080/"
        },
        "id": "nWEqtwu6B5k9",
        "outputId": "24ed9b78-c355-4102-9e8c-752a42b9ddd5"
      },
      "execution_count": 103,
      "outputs": [
        {
          "output_type": "execute_result",
          "data": {
            "text/plain": [
              "['H', 'G', 'F', 'E', 'D', 'C', 'B', 'A']"
            ]
          },
          "metadata": {},
          "execution_count": 103
        }
      ]
    },
    {
      "cell_type": "code",
      "source": [
        "vel = model.block.T[::-1,:,:]"
      ],
      "metadata": {
        "id": "-ZOqctzrEGZ1"
      },
      "execution_count": 104,
      "outputs": []
    },
    {
      "cell_type": "code",
      "source": [
        "midSection = vel[:,70,:]"
      ],
      "metadata": {
        "id": "2PumHWykEKUh"
      },
      "execution_count": 105,
      "outputs": []
    },
    {
      "cell_type": "code",
      "source": [
        "midSection[:10,:10]"
      ],
      "metadata": {
        "colab": {
          "base_uri": "https://localhost:8080/"
        },
        "id": "Rhb2jpvSEKny",
        "outputId": "4221fdd7-309f-42ea-c4c9-bd3bcc1807a0"
      },
      "execution_count": 110,
      "outputs": [
        {
          "output_type": "execute_result",
          "data": {
            "text/plain": [
              "array([[2., 2., 2., 2., 2., 2., 2., 2., 2., 2.],\n",
              "       [2., 2., 2., 2., 2., 2., 2., 2., 2., 2.],\n",
              "       [2., 2., 2., 2., 2., 2., 2., 2., 2., 2.],\n",
              "       [2., 2., 2., 2., 2., 2., 2., 2., 2., 2.],\n",
              "       [2., 2., 2., 2., 2., 2., 2., 2., 2., 2.],\n",
              "       [2., 2., 2., 2., 2., 2., 2., 2., 2., 2.],\n",
              "       [2., 2., 2., 2., 2., 2., 2., 2., 2., 2.],\n",
              "       [2., 2., 2., 2., 2., 2., 2., 2., 2., 2.],\n",
              "       [2., 2., 2., 2., 2., 2., 2., 2., 2., 2.],\n",
              "       [2., 2., 2., 2., 2., 2., 2., 2., 2., 2.]])"
            ]
          },
          "metadata": {},
          "execution_count": 110
        }
      ]
    },
    {
      "cell_type": "code",
      "source": [
        "midSection[-10:,:10]"
      ],
      "metadata": {
        "colab": {
          "base_uri": "https://localhost:8080/"
        },
        "id": "FLrkJDb3EgA6",
        "outputId": "e82f5986-5efb-464e-8d09-efed4ff86174"
      },
      "execution_count": 111,
      "outputs": [
        {
          "output_type": "execute_result",
          "data": {
            "text/plain": [
              "array([[8., 8., 8., 8., 8., 8., 8., 8., 8., 8.],\n",
              "       [8., 8., 8., 8., 8., 8., 8., 8., 8., 8.],\n",
              "       [8., 8., 8., 8., 8., 8., 8., 8., 8., 8.],\n",
              "       [8., 8., 8., 8., 8., 8., 8., 8., 8., 8.],\n",
              "       [8., 8., 8., 8., 8., 8., 8., 8., 8., 8.],\n",
              "       [8., 8., 8., 8., 8., 8., 8., 8., 8., 8.],\n",
              "       [8., 8., 8., 8., 8., 8., 8., 8., 8., 8.],\n",
              "       [8., 8., 8., 8., 8., 8., 8., 8., 8., 8.],\n",
              "       [8., 8., 8., 8., 8., 8., 8., 8., 8., 8.],\n",
              "       [8., 8., 8., 8., 8., 8., 8., 8., 8., 8.]])"
            ]
          },
          "metadata": {},
          "execution_count": 111
        }
      ]
    },
    {
      "cell_type": "code",
      "source": [
        "his = pynoddy.history.NoddyHistory()\n",
        "\n",
        "# add stratigraphy\n",
        "strati_options = {'num_layers' : 8,\n",
        "                  'layer_names': ['A', 'B', 'C',\n",
        "                                  'D', 'E', 'F',\n",
        "                                  'G', 'H'],\n",
        "                  'layer_thickness': [1500,500,500,500,500,500,500,500]}\n",
        "\n",
        "his.add_event('stratigraphy', strati_options)\n",
        "\n",
        "# add fault\n",
        "fault_options = {'name' : 'Fault_E',\n",
        "                 'pos' : (6000, 0, 5000),\n",
        "                 'dip_dir' : 270,\n",
        "                 'dip' : 60,\n",
        "                 'slip' : 1000}\n",
        "his.add_event('fault', fault_options)\n",
        "\n",
        "#add unconformity\n",
        "#unconf_options = {'name' :'Unconf_1',\n",
        "#                  'pos' : (6000, 0, 4000),\n",
        "#                  'dip_direction' : 270,\n",
        "#                  'dip' : 5,\n",
        "#                  'num_layers': 4,\n",
        "#                  'layer_names': ['U_A', 'U-B', 'U_C', 'U_D'],\n",
        "#                  'layer_thickness': [500,1000,500,1000]}\n",
        "#his.add_event('unconformity', unconf_options)\n",
        "\n",
        "#set cube size\n",
        "his.change_cube_size(50)"
      ],
      "metadata": {
        "id": "9kVby6g6CTMW"
      },
      "execution_count": 107,
      "outputs": []
    },
    {
      "cell_type": "code",
      "source": [
        "#write history file\n",
        "his.write_history(history_name2)\n",
        "#run it through Noddy\n",
        "print(pynoddy.compute_model(history_name2, output_name, sim_type='TOPOLOGY'))\n",
        "model = NoddyOutput(output_name)\n",
        "model.plot_section()"
      ],
      "metadata": {
        "colab": {
          "base_uri": "https://localhost:8080/",
          "height": 508
        },
        "id": "xpmPIYUCCVEs",
        "outputId": "839ee78a-57f5-4610-9fbf-415b698e75db"
      },
      "execution_count": 108,
      "outputs": [
        {
          "output_type": "stream",
          "name": "stdout",
          "text": [
            "\n"
          ]
        },
        {
          "output_type": "display_data",
          "data": {
            "text/plain": [
              "<Figure size 1000x600 with 1 Axes>"
            ],
            "image/png": "[encoded data removed]"
          },
          "metadata": {}
        }
      ]
    },
    {
      "cell_type": "code",
      "source": [
        "model.rock_names"
      ],
      "metadata": {
        "colab": {
          "base_uri": "https://localhost:8080/"
        },
        "id": "O6QADMVeCUbE",
        "outputId": "0d983cf2-70ec-4d3f-e2dd-cc73993cddb2"
      },
      "execution_count": 109,
      "outputs": [
        {
          "output_type": "execute_result",
          "data": {
            "text/plain": [
              "['H', 'G', 'F', 'E', 'D', 'C', 'B', 'A']"
            ]
          },
          "metadata": {},
          "execution_count": 109
        }
      ]
    },
    {
      "cell_type": "code",
      "source": [
        "vel = model.block.T[::-1,:,:]"
      ],
      "metadata": {
        "id": "MQ1CTVVJGZwj"
      },
      "execution_count": 112,
      "outputs": []
    },
    {
      "cell_type": "code",
      "source": [
        "midSection = vel[:,70,:]"
      ],
      "metadata": {
        "id": "q1JSp2syGaOL"
      },
      "execution_count": 113,
      "outputs": []
    },
    {
      "cell_type": "code",
      "source": [
        "midSection[:20,:10]"
      ],
      "metadata": {
        "colab": {
          "base_uri": "https://localhost:8080/"
        },
        "id": "tSUjgKOLGabw",
        "outputId": "b85729ab-422f-4c93-d313-bc606b4eb9c9"
      },
      "execution_count": 116,
      "outputs": [
        {
          "output_type": "execute_result",
          "data": {
            "text/plain": [
              "array([[1., 1., 1., 1., 1., 1., 1., 1., 1., 1.],\n",
              "       [1., 1., 1., 1., 1., 1., 1., 1., 1., 1.],\n",
              "       [1., 1., 1., 1., 1., 1., 1., 1., 1., 1.],\n",
              "       [1., 1., 1., 1., 1., 1., 1., 1., 1., 1.],\n",
              "       [1., 1., 1., 1., 1., 1., 1., 1., 1., 1.],\n",
              "       [1., 1., 1., 1., 1., 1., 1., 1., 1., 1.],\n",
              "       [1., 1., 1., 1., 1., 1., 1., 1., 1., 1.],\n",
              "       [1., 1., 1., 1., 1., 1., 1., 1., 1., 1.],\n",
              "       [1., 1., 1., 1., 1., 1., 1., 1., 1., 1.],\n",
              "       [1., 1., 1., 1., 1., 1., 1., 1., 1., 1.],\n",
              "       [1., 1., 1., 1., 1., 1., 1., 1., 1., 1.],\n",
              "       [1., 1., 1., 1., 1., 1., 1., 1., 1., 1.],\n",
              "       [1., 1., 1., 1., 1., 1., 1., 1., 1., 1.],\n",
              "       [1., 1., 1., 1., 1., 1., 1., 1., 1., 1.],\n",
              "       [1., 1., 1., 1., 1., 1., 1., 1., 1., 1.],\n",
              "       [1., 1., 1., 1., 1., 1., 1., 1., 1., 1.],\n",
              "       [1., 1., 1., 1., 1., 1., 1., 1., 1., 1.],\n",
              "       [2., 2., 2., 2., 2., 2., 2., 2., 2., 2.],\n",
              "       [2., 2., 2., 2., 2., 2., 2., 2., 2., 2.],\n",
              "       [2., 2., 2., 2., 2., 2., 2., 2., 2., 2.]])"
            ]
          },
          "metadata": {},
          "execution_count": 116
        }
      ]
    },
    {
      "cell_type": "code",
      "source": [
        "midSection[-25:,:10]"
      ],
      "metadata": {
        "colab": {
          "base_uri": "https://localhost:8080/"
        },
        "id": "W1OY0i9pGaqt",
        "outputId": "3c987188-ec51-4a79-a9d8-8c18bc6013b1"
      },
      "execution_count": 117,
      "outputs": [
        {
          "output_type": "execute_result",
          "data": {
            "text/plain": [
              "array([[7., 7., 7., 7., 7., 7., 7., 7., 7., 7.],\n",
              "       [7., 7., 7., 7., 7., 7., 7., 7., 7., 7.],\n",
              "       [8., 8., 8., 8., 8., 8., 8., 8., 8., 8.],\n",
              "       [8., 8., 8., 8., 8., 8., 8., 8., 8., 8.],\n",
              "       [8., 8., 8., 8., 8., 8., 8., 8., 8., 8.],\n",
              "       [8., 8., 8., 8., 8., 8., 8., 8., 8., 8.],\n",
              "       [8., 8., 8., 8., 8., 8., 8., 8., 8., 8.],\n",
              "       [8., 8., 8., 8., 8., 8., 8., 8., 8., 8.],\n",
              "       [8., 8., 8., 8., 8., 8., 8., 8., 8., 8.],\n",
              "       [8., 8., 8., 8., 8., 8., 8., 8., 8., 8.],\n",
              "       [8., 8., 8., 8., 8., 8., 8., 8., 8., 8.],\n",
              "       [8., 8., 8., 8., 8., 8., 8., 8., 8., 8.],\n",
              "       [8., 8., 8., 8., 8., 8., 8., 8., 8., 8.],\n",
              "       [8., 8., 8., 8., 8., 8., 8., 8., 8., 8.],\n",
              "       [8., 8., 8., 8., 8., 8., 8., 8., 8., 8.],\n",
              "       [8., 8., 8., 8., 8., 8., 8., 8., 8., 8.],\n",
              "       [8., 8., 8., 8., 8., 8., 8., 8., 8., 8.],\n",
              "       [8., 8., 8., 8., 8., 8., 8., 8., 8., 8.],\n",
              "       [8., 8., 8., 8., 8., 8., 8., 8., 8., 8.],\n",
              "       [8., 8., 8., 8., 8., 8., 8., 8., 8., 8.],\n",
              "       [8., 8., 8., 8., 8., 8., 8., 8., 8., 8.],\n",
              "       [8., 8., 8., 8., 8., 8., 8., 8., 8., 8.],\n",
              "       [8., 8., 8., 8., 8., 8., 8., 8., 8., 8.],\n",
              "       [8., 8., 8., 8., 8., 8., 8., 8., 8., 8.],\n",
              "       [8., 8., 8., 8., 8., 8., 8., 8., 8., 8.]])"
            ]
          },
          "metadata": {},
          "execution_count": 117
        }
      ]
    },
    {
      "cell_type": "code",
      "source": [
        "his = pynoddy.history.NoddyHistory()\n",
        "\n",
        "# add stratigraphy\n",
        "strati_options = {'num_layers' : 8,\n",
        "                  'layer_names': ['A', 'B', 'C',\n",
        "                                  'D', 'E', 'F',\n",
        "                                  'G', 'H'],\n",
        "                  'layer_thickness': [1500,500,500,500,500,500,500,500]}\n",
        "\n",
        "his.add_event('stratigraphy', strati_options)\n",
        "\n",
        "# add fault\n",
        "fault_options = {'name' : 'Fault_E',\n",
        "                 'pos' : (6000, 0, 5000),\n",
        "                 'dip_dir' : 270,\n",
        "                 'dip' : 60,\n",
        "                 'slip' : 1000}\n",
        "his.add_event('fault', fault_options)\n",
        "\n",
        "#add unconformity\n",
        "unconf_options = {'name' :'Unconf_1',\n",
        "                  'pos' : (6000, 0, 4000),\n",
        "                  'dip_direction' : 270,\n",
        "                  'dip' : 5,\n",
        "                  'num_layers': 4,\n",
        "                  'layer_names': ['U_A', 'U-B', 'U_C', 'U_D'],\n",
        "                  'layer_thickness': [500,1000,500,1000]}\n",
        "his.add_event('unconformity', unconf_options)\n",
        "\n",
        "#set cube size\n",
        "his.change_cube_size(50)"
      ],
      "metadata": {
        "id": "jAj1NyJmDkvK"
      },
      "execution_count": 118,
      "outputs": []
    },
    {
      "cell_type": "code",
      "source": [
        "#write history file\n",
        "his.write_history(history_name3)\n",
        "#run it through Noddy\n",
        "print(pynoddy.compute_model(history_name3, output_name, sim_type='TOPOLOGY'))\n",
        "model = NoddyOutput(output_name)\n",
        "model.plot_section()"
      ],
      "metadata": {
        "colab": {
          "base_uri": "https://localhost:8080/",
          "height": 508
        },
        "id": "8_Iqca0KDkhU",
        "outputId": "90ed1ede-92e8-4cb4-8f30-a89ec4e3eff9"
      },
      "execution_count": 120,
      "outputs": [
        {
          "output_type": "stream",
          "name": "stdout",
          "text": [
            "\n"
          ]
        },
        {
          "output_type": "display_data",
          "data": {
            "text/plain": [
              "<Figure size 1000x600 with 1 Axes>"
            ],
            "image/png": "[encoded data removed]"
          },
          "metadata": {}
        }
      ]
    },
    {
      "cell_type": "code",
      "source": [
        "model.rock_names"
      ],
      "metadata": {
        "colab": {
          "base_uri": "https://localhost:8080/"
        },
        "id": "b44oqUWRDkQp",
        "outputId": "a990806f-0db1-49d1-fb4e-0b4ad39907c9"
      },
      "execution_count": 121,
      "outputs": [
        {
          "output_type": "execute_result",
          "data": {
            "text/plain": [
              "['H', 'G', 'F', 'E', 'D', 'C', 'B', 'A', 'U_D', 'U_C', 'U-B', 'U_A']"
            ]
          },
          "metadata": {},
          "execution_count": 121
        }
      ]
    },
    {
      "cell_type": "code",
      "source": [
        "#from 2D structure to velocity model"
      ],
      "metadata": {
        "id": "b7Kk_Jsn_Foq"
      },
      "execution_count": 19,
      "outputs": []
    },
    {
      "cell_type": "code",
      "source": [
        "vel = model.block.T[::-1,:,:]"
      ],
      "metadata": {
        "id": "2x_DVerV-dlR"
      },
      "execution_count": 122,
      "outputs": []
    },
    {
      "cell_type": "code",
      "source": [
        "vel.shape"
      ],
      "metadata": {
        "colab": {
          "base_uri": "https://localhost:8080/"
        },
        "id": "2GsrxNq8-oFL",
        "outputId": "a4e81c80-926c-473a-f022-ebdefbd912cf"
      },
      "execution_count": 123,
      "outputs": [
        {
          "output_type": "execute_result",
          "data": {
            "text/plain": [
              "(100, 140, 200)"
            ]
          },
          "metadata": {},
          "execution_count": 123
        }
      ]
    },
    {
      "cell_type": "code",
      "source": [
        "midSection = vel[:,70,:]"
      ],
      "metadata": {
        "id": "WGjr1-GE-slO"
      },
      "execution_count": 124,
      "outputs": []
    },
    {
      "cell_type": "code",
      "source": [
        "midSection[:32,:10]"
      ],
      "metadata": {
        "colab": {
          "base_uri": "https://localhost:8080/"
        },
        "id": "e1iQYVCSHdKT",
        "outputId": "e5e04d9d-c6e0-43ee-d3ff-e14060fa04de"
      },
      "execution_count": 129,
      "outputs": [
        {
          "output_type": "execute_result",
          "data": {
            "text/plain": [
              "array([[9., 9., 9., 9., 9., 9., 9., 9., 9., 9.],\n",
              "       [9., 9., 9., 9., 9., 9., 9., 9., 9., 9.],\n",
              "       [9., 9., 9., 9., 9., 9., 9., 9., 9., 9.],\n",
              "       [9., 9., 9., 9., 9., 9., 9., 9., 9., 9.],\n",
              "       [9., 9., 9., 9., 9., 9., 9., 9., 9., 9.],\n",
              "       [9., 9., 9., 9., 9., 9., 9., 9., 9., 9.],\n",
              "       [9., 9., 9., 9., 9., 9., 9., 9., 9., 9.],\n",
              "       [9., 9., 9., 9., 9., 9., 9., 9., 9., 9.],\n",
              "       [9., 9., 9., 9., 9., 9., 9., 9., 9., 9.],\n",
              "       [9., 9., 9., 9., 9., 9., 9., 9., 9., 9.],\n",
              "       [9., 9., 9., 9., 9., 9., 9., 9., 9., 9.],\n",
              "       [9., 9., 9., 9., 9., 9., 9., 9., 9., 9.],\n",
              "       [9., 9., 9., 9., 9., 9., 9., 9., 9., 9.],\n",
              "       [9., 9., 9., 9., 9., 9., 9., 9., 9., 9.],\n",
              "       [9., 9., 9., 9., 9., 9., 9., 9., 9., 9.],\n",
              "       [9., 9., 9., 9., 9., 9., 9., 9., 9., 9.],\n",
              "       [9., 9., 9., 9., 9., 9., 9., 9., 9., 9.],\n",
              "       [9., 9., 9., 9., 9., 9., 9., 9., 9., 9.],\n",
              "       [9., 9., 9., 9., 9., 9., 9., 9., 9., 9.],\n",
              "       [9., 9., 9., 9., 9., 9., 9., 9., 9., 9.],\n",
              "       [9., 9., 9., 9., 9., 9., 9., 9., 9., 9.],\n",
              "       [9., 9., 9., 9., 9., 9., 9., 9., 9., 9.],\n",
              "       [9., 9., 9., 9., 9., 9., 9., 9., 9., 9.],\n",
              "       [9., 9., 9., 9., 9., 9., 9., 9., 9., 9.],\n",
              "       [9., 9., 9., 9., 9., 9., 9., 9., 9., 9.],\n",
              "       [9., 9., 9., 9., 9., 9., 9., 9., 9., 9.],\n",
              "       [9., 9., 9., 9., 9., 9., 9., 9., 9., 9.],\n",
              "       [9., 9., 9., 9., 9., 9., 9., 9., 9., 9.],\n",
              "       [9., 9., 9., 9., 9., 9., 9., 9., 9., 9.],\n",
              "       [9., 9., 9., 9., 9., 9., 9., 9., 9., 9.],\n",
              "       [3., 3., 3., 3., 3., 3., 3., 3., 3., 3.],\n",
              "       [3., 3., 3., 3., 3., 3., 3., 3., 3., 3.]])"
            ]
          },
          "metadata": {},
          "execution_count": 129
        }
      ]
    },
    {
      "cell_type": "code",
      "source": [
        "midSection[-25:,:10]"
      ],
      "metadata": {
        "colab": {
          "base_uri": "https://localhost:8080/"
        },
        "id": "r-DFozxGHcBV",
        "outputId": "4f0c4849-45a9-43ea-ff1d-766c3de23eb7"
      },
      "execution_count": 127,
      "outputs": [
        {
          "output_type": "execute_result",
          "data": {
            "text/plain": [
              "array([[7., 7., 7., 7., 7., 7., 7., 7., 7., 7.],\n",
              "       [7., 7., 7., 7., 7., 7., 7., 7., 7., 7.],\n",
              "       [8., 8., 8., 8., 8., 8., 8., 8., 8., 8.],\n",
              "       [8., 8., 8., 8., 8., 8., 8., 8., 8., 8.],\n",
              "       [8., 8., 8., 8., 8., 8., 8., 8., 8., 8.],\n",
              "       [8., 8., 8., 8., 8., 8., 8., 8., 8., 8.],\n",
              "       [8., 8., 8., 8., 8., 8., 8., 8., 8., 8.],\n",
              "       [8., 8., 8., 8., 8., 8., 8., 8., 8., 8.],\n",
              "       [8., 8., 8., 8., 8., 8., 8., 8., 8., 8.],\n",
              "       [8., 8., 8., 8., 8., 8., 8., 8., 8., 8.],\n",
              "       [8., 8., 8., 8., 8., 8., 8., 8., 8., 8.],\n",
              "       [8., 8., 8., 8., 8., 8., 8., 8., 8., 8.],\n",
              "       [8., 8., 8., 8., 8., 8., 8., 8., 8., 8.],\n",
              "       [8., 8., 8., 8., 8., 8., 8., 8., 8., 8.],\n",
              "       [8., 8., 8., 8., 8., 8., 8., 8., 8., 8.],\n",
              "       [8., 8., 8., 8., 8., 8., 8., 8., 8., 8.],\n",
              "       [8., 8., 8., 8., 8., 8., 8., 8., 8., 8.],\n",
              "       [8., 8., 8., 8., 8., 8., 8., 8., 8., 8.],\n",
              "       [8., 8., 8., 8., 8., 8., 8., 8., 8., 8.],\n",
              "       [8., 8., 8., 8., 8., 8., 8., 8., 8., 8.],\n",
              "       [8., 8., 8., 8., 8., 8., 8., 8., 8., 8.],\n",
              "       [8., 8., 8., 8., 8., 8., 8., 8., 8., 8.],\n",
              "       [8., 8., 8., 8., 8., 8., 8., 8., 8., 8.],\n",
              "       [8., 8., 8., 8., 8., 8., 8., 8., 8., 8.],\n",
              "       [8., 8., 8., 8., 8., 8., 8., 8., 8., 8.]])"
            ]
          },
          "metadata": {},
          "execution_count": 127
        }
      ]
    },
    {
      "cell_type": "code",
      "source": [
        "fig,axes = plt.subplots(1,1,figsize=[10,5])\n",
        "axes.imshow(midSection,cmap='jet')\n",
        "#axes.invert_yaxis()\n",
        "plt.show()"
      ],
      "metadata": {
        "colab": {
          "base_uri": "https://localhost:8080/",
          "height": 449
        },
        "id": "XW-JTAfF8Knb",
        "outputId": "9a065974-9c2b-4fd2-9eaf-881e863ed3c0"
      },
      "execution_count": 125,
      "outputs": [
        {
          "output_type": "display_data",
          "data": {
            "text/plain": [
              "<Figure size 1000x500 with 1 Axes>"
            ],
            "image/png": "[encoded data removed]"
          },
          "metadata": {}
        }
      ]
    },
    {
      "cell_type": "code",
      "source": [
        "model.rock_names"
      ],
      "metadata": {
        "colab": {
          "base_uri": "https://localhost:8080/"
        },
        "id": "uOTypbNG_EK9",
        "outputId": "39c75859-db1a-4feb-820d-e87917dd57c3"
      },
      "execution_count": 41,
      "outputs": [
        {
          "output_type": "execute_result",
          "data": {
            "text/plain": [
              "['H', 'G', 'F', 'E', 'D', 'C', 'B', 'A', 'U_D', 'U_C', 'U-B', 'U_A']"
            ]
          },
          "metadata": {},
          "execution_count": 41
        }
      ]
    },
    {
      "cell_type": "code",
      "source": [
        "#min,max velocity values for different lithology\n",
        "'''\n",
        "sandstone_velocity = (2300,3500)\n",
        "shale_velocity=(2000,3500)\n",
        "siltstone_velocity=((2300+2000)/2,3500)\n",
        "limestone_velocity = (4000,5000)\n",
        "water_velocity=(1500,1500)\n",
        "'''"
      ],
      "metadata": {
        "colab": {
          "base_uri": "https://localhost:8080/",
          "height": 53
        },
        "id": "hx1rC4VN_YO5",
        "outputId": "a679129f-6033-4aa3-b6ad-a540e201b06e"
      },
      "execution_count": 153,
      "outputs": [
        {
          "output_type": "execute_result",
          "data": {
            "text/plain": [
              "'\\nsandstone_velocity = (2300,3500)\\nshale_velocity=(2000,3500)\\nsiltstone_velocity=((2300+2000)/2,3500)\\nlimestone_velocity = (4000,5000)\\nwater_velocity=(1500,1500)\\n'"
            ],
            "application/vnd.google.colaboratory.intrinsic+json": {
              "type": "string"
            }
          },
          "metadata": {},
          "execution_count": 153
        }
      ]
    },
    {
      "cell_type": "code",
      "source": [
        "#replace the lithology with values"
      ],
      "metadata": {
        "id": "xSPpukkd_hpl"
      },
      "execution_count": 130,
      "outputs": []
    },
    {
      "cell_type": "code",
      "source": [
        "midSection[midSection==9.0]=1800.0 #lith 9\n",
        "midSection[midSection==2.0]=2000 #lith 2\n",
        "midSection[midSection==3.0]=2500 #lith 3\n",
        "midSection[midSection==4.0]=3000 #lith 4\n",
        "midSection[midSection==5.0]=3200 #lith 5\n",
        "midSection[midSection==6.0]=3500 #lith 6\n",
        "midSection[midSection==7.0]=4000 #lith 7\n",
        "midSection[midSection==8.0]=4800 #lith 8"
      ],
      "metadata": {
        "id": "bOepEEzQJS0N"
      },
      "execution_count": 154,
      "outputs": []
    },
    {
      "cell_type": "code",
      "source": [
        "min(midSection.flatten())"
      ],
      "metadata": {
        "colab": {
          "base_uri": "https://localhost:8080/"
        },
        "id": "gX3xH9wCK2Uz",
        "outputId": "60931859-1c24-4dc5-f021-970cf755b5fd"
      },
      "execution_count": 155,
      "outputs": [
        {
          "output_type": "execute_result",
          "data": {
            "text/plain": [
              "np.float64(2000.0)"
            ]
          },
          "metadata": {},
          "execution_count": 155
        }
      ]
    },
    {
      "cell_type": "code",
      "source": [
        "max(midSection.flatten())"
      ],
      "metadata": {
        "colab": {
          "base_uri": "https://localhost:8080/"
        },
        "id": "9A190oxwK5VK",
        "outputId": "07e07d3c-f511-4a30-eb63-51c29abb08a3"
      },
      "execution_count": 156,
      "outputs": [
        {
          "output_type": "execute_result",
          "data": {
            "text/plain": [
              "np.float64(4800.0)"
            ]
          },
          "metadata": {},
          "execution_count": 156
        }
      ]
    },
    {
      "cell_type": "code",
      "source": [
        "!pip install pylops"
      ],
      "metadata": {
        "colab": {
          "base_uri": "https://localhost:8080/"
        },
        "id": "EppaxZItPcfy",
        "outputId": "b5eb05ac-b2f9-46c8-90e2-eca3e0ef5ee2"
      },
      "execution_count": 165,
      "outputs": [
        {
          "output_type": "stream",
          "name": "stdout",
          "text": [
            "Collecting pylops\n",
            "  Downloading pylops-2.4.0-py3-none-any.whl.metadata (18 kB)\n",
            "Requirement already satisfied: numpy>=1.21.0 in /usr/local/lib/python3.11/dist-packages (from pylops) (2.0.2)\n",
            "Requirement already satisfied: scipy>=1.11.0 in /usr/local/lib/python3.11/dist-packages (from pylops) (1.15.2)\n",
            "Downloading pylops-2.4.0-py3-none-any.whl (316 kB)\n",
            "\u001b[2K   \u001b[90m━━━━━━━━━━━━━━━━━━━━━━━━━━━━━━━━━━━━━━━━\u001b[0m \u001b[32m316.5/316.5 kB\u001b[0m \u001b[31m6.1 MB/s\u001b[0m eta \u001b[36m0:00:00\u001b[0m\n",
            "\u001b[?25hInstalling collected packages: pylops\n",
            "Successfully installed pylops-2.4.0\n"
          ]
        }
      ]
    },
    {
      "cell_type": "code",
      "source": [
        "from scipy.signal import filtfilt\n",
        "import pylops\n",
        "from pylops.utils.wavelets import ricker\n",
        "import numpy as np"
      ],
      "metadata": {
        "id": "cDWPAYldPgJa"
      },
      "execution_count": 169,
      "outputs": []
    },
    {
      "cell_type": "code",
      "source": [
        "# wavelet\n",
        "ntwav = 41\n",
        "nt0=101\n",
        "dt0=0.004\n",
        "t0=np.arange(nt0)*dt0\n",
        "\n",
        "f0s = np.flip(np.arange(nt0) * 0.1 + 5)\n",
        "wavs = np.array([ricker(t0[:ntwav], 35)[0] for f0 in f0s])\n",
        "wavc = np.argmax(wavs[0])\n",
        "\n",
        "plt.figure(figsize=(10, 4))\n",
        "plt.subplot(1,2,1)\n",
        "plt.plot(wavs[0])\n",
        "plt.title(\"Ricker Wavelet\")\n",
        "plt.subplot(1,2,2)\n",
        "plt.imshow(wavs.T, cmap=\"gray\", extent=(t0[0], t0[-1], t0[ntwav], -t0[ntwav]))\n",
        "plt.xlabel(\"t\")\n",
        "plt.title(\"Wavelets\")\n",
        "plt.axis(\"tight\")\n"
      ],
      "metadata": {
        "colab": {
          "base_uri": "https://localhost:8080/",
          "height": 428
        },
        "id": "OhZYQ8s9P3be",
        "outputId": "25266b80-78b0-4d28-a901-71ce5a457318"
      },
      "execution_count": 212,
      "outputs": [
        {
          "output_type": "execute_result",
          "data": {
            "text/plain": [
              "(np.float64(0.0), np.float64(0.4), np.float64(0.164), np.float64(-0.164))"
            ]
          },
          "metadata": {},
          "execution_count": 212
        },
        {
          "output_type": "display_data",
          "data": {
            "text/plain": [
              "<Figure size 1000x400 with 2 Axes>"
            ],
            "image/png": "[encoded data removed]"
          },
          "metadata": {}
        }
      ]
    },
    {
      "cell_type": "code",
      "source": [
        "nz,nx=midSection.shape\n",
        "print([nz,nx])"
      ],
      "metadata": {
        "colab": {
          "base_uri": "https://localhost:8080/"
        },
        "id": "xXLDsfReSPXq",
        "outputId": "a0d82ffc-3780-4474-8b4b-1569f242069d"
      },
      "execution_count": 200,
      "outputs": [
        {
          "output_type": "stream",
          "name": "stdout",
          "text": [
            "[100, 200]\n"
          ]
        }
      ]
    },
    {
      "cell_type": "code",
      "source": [
        "vmodel=np.zeros([nz+1,nx+1])\n",
        "vmodel[:nz,:nx]=midSection\n",
        "vmodel[:nz,nx]=midSection[:,nx-1]\n",
        "vmodel[nz,:]=vmodel[nz-1,:]"
      ],
      "metadata": {
        "id": "bSu6hiIVTmnR"
      },
      "execution_count": 194,
      "outputs": []
    },
    {
      "cell_type": "code",
      "source": [
        "# operator\n",
        "PPop = pylops.avo.poststack.PoststackLinearModelling(wavs / 2, nt0=nt0, explicit=True)\n",
        "print(PPop.shape)\n",
        "m = np.log(vmodel)\n",
        "# data\n",
        "d = PPop * m"
      ],
      "metadata": {
        "colab": {
          "base_uri": "https://localhost:8080/"
        },
        "id": "ezB-9aAhQkUA",
        "outputId": "f14f5c98-ee32-472f-e598-44cffe852c04"
      },
      "execution_count": 213,
      "outputs": [
        {
          "output_type": "stream",
          "name": "stdout",
          "text": [
            "(101, 101)\n"
          ]
        }
      ]
    },
    {
      "cell_type": "code",
      "source": [
        "plt.subplots(2,1,figsize=[10,10])\n",
        "plt.subplot(2,1,1)\n",
        "plt.imshow(midSection,cmap='jet')\n",
        "plt.title('Velocity model for a deposition after faulting and then unconformity')\n",
        "plt.xlabel('x position')\n",
        "plt.ylabel('z position')\n",
        "plt.colorbar(orientation='vertical', label=\"m/s\",aspect=80)\n",
        "#axes.invert_yaxis()\n",
        "#axe1.grid()\n",
        "plt.subplot(2,1,2)\n",
        "plt.imshow(d, cmap='gray')\n",
        "plt.title('Seismic image for a deposition after faulting and then unconformity ')\n",
        "plt.xlabel('x position')\n",
        "plt.ylabel('z position')\n",
        "plt.colorbar(orientation='vertical',aspect=80)\n",
        "plt.show()"
      ],
      "metadata": {
        "colab": {
          "base_uri": "https://localhost:8080/",
          "height": 833
        },
        "id": "R7p9WCa4LC8y",
        "outputId": "ef6df72f-f8a0-4a70-ef17-8409fded2daa"
      },
      "execution_count": 222,
      "outputs": [
        {
          "output_type": "display_data",
          "data": {
            "text/plain": [
              "<Figure size 1000x1000 with 4 Axes>"
            ],
            "image/png": "[encoded data removed]"
          },
          "metadata": {}
        }
      ]
    },
    {
      "cell_type": "code",
      "source": [],
      "metadata": {
        "id": "NRXjHCs0L-oN"
      },
      "execution_count": null,
      "outputs": []
    }
  ]
}